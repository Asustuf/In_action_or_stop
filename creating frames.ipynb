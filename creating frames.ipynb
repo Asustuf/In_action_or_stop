{
 "cells": [
  {
   "cell_type": "code",
   "execution_count": 18,
   "id": "0f18cfa6",
   "metadata": {},
   "outputs": [],
   "source": [
    "import cv2\n",
    "import os\n",
    "import random"
   ]
  },
  {
   "cell_type": "code",
   "execution_count": 19,
   "id": "16c0c84e",
   "metadata": {},
   "outputs": [],
   "source": [
    "# Path to the video file\n",
    "video_path = 'sample.mp4'"
   ]
  },
  {
   "cell_type": "code",
   "execution_count": 20,
   "id": "e1b83892",
   "metadata": {},
   "outputs": [],
   "source": [
    "# Directory where frames will be saved\n",
    "output_directory = 'frames'\n",
    "os.makedirs(output_directory, exist_ok=True)"
   ]
  },
  {
   "cell_type": "code",
   "execution_count": 21,
   "id": "65099466",
   "metadata": {},
   "outputs": [],
   "source": [
    "# Open the video file\n",
    "cap = cv2.VideoCapture(video_path)"
   ]
  },
  {
   "cell_type": "code",
   "execution_count": 22,
   "id": "7bda3cd3",
   "metadata": {},
   "outputs": [],
   "source": [
    "# Parameters for frame extraction\n",
    "frame_count = 0\n",
    "train_percentage = 0.7  # 70% for training, 30% for validation"
   ]
  },
  {
   "cell_type": "code",
   "execution_count": 23,
   "id": "914b8bd2",
   "metadata": {},
   "outputs": [],
   "source": [
    "# Lists to hold the file names for training and validation frames\n",
    "train_frame_filenames = []\n",
    "validation_frame_filenames = []"
   ]
  },
  {
   "cell_type": "code",
   "execution_count": 24,
   "id": "45189576",
   "metadata": {},
   "outputs": [],
   "source": [
    "while cap.isOpened():\n",
    "    ret, frame = cap.read()\n",
    "    \n",
    "    if not ret:\n",
    "        break\n",
    "    \n",
    "    # Generate a random number between 0 and 1 to decide whether to put the frame in training or validation\n",
    "    random_number = random.random()\n",
    "    \n",
    "    # Define the subdirectory (train or validation) based on the random number\n",
    "    subdirectory = 'train' if random_number < train_percentage else 'validation'\n",
    "    \n",
    "    # Save the frame in the corresponding subdirectory\n",
    "    frame_filename = os.path.join(output_directory, subdirectory, f'frame_{frame_count:04d}.jpg')\n",
    "    os.makedirs(os.path.dirname(frame_filename), exist_ok=True)\n",
    "    cv2.imwrite(frame_filename, frame)\n",
    "    \n",
    "    # Add the frame filename to the appropriate list\n",
    "    if subdirectory == 'train':\n",
    "        train_frame_filenames.append(frame_filename)\n",
    "    else:\n",
    "        validation_frame_filenames.append(frame_filename)\n",
    "    \n",
    "    frame_count += 1\n",
    "\n",
    "cap.release()"
   ]
  },
  {
   "cell_type": "code",
   "execution_count": 25,
   "id": "4d7bdab8",
   "metadata": {},
   "outputs": [
    {
     "name": "stdout",
     "output_type": "stream",
     "text": [
      "Total frames: 816\n",
      "Training frames: 582\n",
      "Validation frames: 234\n"
     ]
    }
   ],
   "source": [
    "print(f'Total frames: {frame_count}')\n",
    "print(f'Training frames: {len(train_frame_filenames)}')\n",
    "print(f'Validation frames: {len(validation_frame_filenames)}')"
   ]
  },
  {
   "cell_type": "code",
   "execution_count": 17,
   "id": "29dda82b",
   "metadata": {},
   "outputs": [],
   "source": []
  },
  {
   "cell_type": "code",
   "execution_count": null,
   "id": "62203059",
   "metadata": {},
   "outputs": [],
   "source": []
  }
 ],
 "metadata": {
  "kernelspec": {
   "display_name": "Python 3 (ipykernel)",
   "language": "python",
   "name": "python3"
  },
  "language_info": {
   "codemirror_mode": {
    "name": "ipython",
    "version": 3
   },
   "file_extension": ".py",
   "mimetype": "text/x-python",
   "name": "python",
   "nbconvert_exporter": "python",
   "pygments_lexer": "ipython3",
   "version": "3.10.9"
  }
 },
 "nbformat": 4,
 "nbformat_minor": 5
}
