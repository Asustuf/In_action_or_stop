{
 "cells": [
  {
   "cell_type": "code",
   "execution_count": 2,
   "id": "e402bd95",
   "metadata": {},
   "outputs": [],
   "source": [
    "import tensorflow as tf\n",
    "from tensorflow import keras\n",
    "from tensorflow.keras import layers\n",
    "from tensorflow.keras.preprocessing.image import ImageDataGenerator\n",
    "from tensorflow.keras.applications import MobileNetV2"
   ]
  },
  {
   "cell_type": "code",
   "execution_count": 5,
   "id": "83ad9a15",
   "metadata": {},
   "outputs": [],
   "source": [
    "# Define data directories\n",
    "train_dir = 'C:/Users/ashiv/Documents/action state or stop state/frames/train'\n",
    "batch_size = 32\n",
    "image_size = (224, 224)"
   ]
  },
  {
   "cell_type": "code",
   "execution_count": 6,
   "id": "14222269",
   "metadata": {},
   "outputs": [
    {
     "name": "stdout",
     "output_type": "stream",
     "text": [
      "Found 582 images belonging to 2 classes.\n"
     ]
    }
   ],
   "source": [
    "# Create a data generator with data augmentation for training\n",
    "train_datagen = ImageDataGenerator(\n",
    "    rescale=1./255,\n",
    "    rotation_range=20,\n",
    "    width_shift_range=0.2,\n",
    "    height_shift_range=0.2,\n",
    "    shear_range=0.2,\n",
    "    zoom_range=0.2,\n",
    "    horizontal_flip=True,\n",
    "    fill_mode='nearest')\n",
    "\n",
    "train_generator = train_datagen.flow_from_directory(\n",
    "    train_dir,\n",
    "    target_size=image_size,\n",
    "    batch_size=batch_size,\n",
    "    class_mode='binary',  # Binary classification: 'in action' and 'stop'\n",
    "    shuffle=True)"
   ]
  },
  {
   "cell_type": "code",
   "execution_count": 7,
   "id": "dd26f1d6",
   "metadata": {},
   "outputs": [],
   "source": [
    "# Create a simple MobileNetV2-based model\n",
    "base_model = MobileNetV2(input_shape=(224, 224, 3),\n",
    "                         include_top=False, weights='imagenet')\n",
    "base_model.trainable = False  # Freeze base model weights\n",
    "\n",
    "model = keras.Sequential([\n",
    "    base_model,\n",
    "    layers.GlobalAveragePooling2D(),\n",
    "    layers.Dense(1, activation='sigmoid')  # Binary classification\n",
    "])"
   ]
  },
  {
   "cell_type": "code",
   "execution_count": 8,
   "id": "94a3d9a0",
   "metadata": {},
   "outputs": [],
   "source": [
    "# Compile the model\n",
    "model.compile(optimizer='adam',\n",
    "              loss='binary_crossentropy',\n",
    "              metrics=['accuracy'])"
   ]
  },
  {
   "cell_type": "code",
   "execution_count": 9,
   "id": "650a136a",
   "metadata": {},
   "outputs": [
    {
     "name": "stdout",
     "output_type": "stream",
     "text": [
      "Epoch 1/10\n",
      "19/19 [==============================] - 23s 1s/step - loss: 0.6789 - accuracy: 0.6100\n",
      "Epoch 2/10\n",
      "19/19 [==============================] - 21s 1s/step - loss: 0.4994 - accuracy: 0.7595\n",
      "Epoch 3/10\n",
      "19/19 [==============================] - 21s 1s/step - loss: 0.4113 - accuracy: 0.8557\n",
      "Epoch 4/10\n",
      "19/19 [==============================] - 21s 1s/step - loss: 0.3478 - accuracy: 0.8763\n",
      "Epoch 5/10\n",
      "19/19 [==============================] - 21s 1s/step - loss: 0.3086 - accuracy: 0.9038\n",
      "Epoch 6/10\n",
      "19/19 [==============================] - 21s 1s/step - loss: 0.2846 - accuracy: 0.9055\n",
      "Epoch 7/10\n",
      "19/19 [==============================] - 21s 1s/step - loss: 0.2776 - accuracy: 0.9089\n",
      "Epoch 8/10\n",
      "19/19 [==============================] - 21s 1s/step - loss: 0.2453 - accuracy: 0.9227\n",
      "Epoch 9/10\n",
      "19/19 [==============================] - 21s 1s/step - loss: 0.2372 - accuracy: 0.9192\n",
      "Epoch 10/10\n",
      "19/19 [==============================] - 22s 1s/step - loss: 0.2418 - accuracy: 0.9107\n"
     ]
    },
    {
     "data": {
      "text/plain": [
       "<keras.callbacks.History at 0x2422e04c100>"
      ]
     },
     "execution_count": 9,
     "metadata": {},
     "output_type": "execute_result"
    }
   ],
   "source": [
    "# Train the model\n",
    "epochs = 10\n",
    "model.fit(train_generator, epochs=epochs)"
   ]
  },
  {
   "cell_type": "code",
   "execution_count": 10,
   "id": "8f2e8cbc",
   "metadata": {},
   "outputs": [],
   "source": [
    "# Save the trained model\n",
    "model.save('classification_model.h5')"
   ]
  },
  {
   "cell_type": "code",
   "execution_count": 12,
   "id": "f8f0a21a",
   "metadata": {},
   "outputs": [
    {
     "name": "stderr",
     "output_type": "stream",
     "text": [
      "WARNING:absl:Function `_wrapped_model` contains input name(s) mobilenetv2_1.00_224_input with unsupported characters which will be renamed to mobilenetv2_1_00_224_input in the SavedModel.\n",
      "WARNING:absl:`mobilenetv2_1.00_224_input` is not a valid tf.function parameter name. Sanitizing to `mobilenetv2_1_00_224_input`.\n",
      "WARNING:absl:`mobilenetv2_1.00_224_input` is not a valid tf.function parameter name. Sanitizing to `mobilenetv2_1_00_224_input`.\n",
      "WARNING:absl:`mobilenetv2_1.00_224_input` is not a valid tf.function parameter name. Sanitizing to `mobilenetv2_1_00_224_input`.\n",
      "WARNING:absl:Found untraced functions such as _update_step_xla, _jit_compiled_convolution_op, _jit_compiled_convolution_op, _jit_compiled_convolution_op, _jit_compiled_convolution_op while saving (showing 5 of 53). These functions will not be directly callable after loading.\n"
     ]
    },
    {
     "name": "stdout",
     "output_type": "stream",
     "text": [
      "INFO:tensorflow:Assets written to: C:\\Users\\ashiv\\AppData\\Local\\Temp\\tmpntusznnu\\assets\n"
     ]
    },
    {
     "name": "stderr",
     "output_type": "stream",
     "text": [
      "INFO:tensorflow:Assets written to: C:\\Users\\ashiv\\AppData\\Local\\Temp\\tmpntusznnu\\assets\n"
     ]
    }
   ],
   "source": [
    "# Convert the model to TensorFlow Lite\n",
    "converter = tf.lite.TFLiteConverter.from_keras_model(model)\n",
    "tflite_model = converter.convert()"
   ]
  },
  {
   "cell_type": "code",
   "execution_count": 13,
   "id": "34ca1147",
   "metadata": {},
   "outputs": [],
   "source": [
    "# Save the TensorFlow Lite model\n",
    "with open('classification_model.tflite', 'wb') as f:\n",
    "    f.write(tflite_model)"
   ]
  },
  {
   "cell_type": "code",
   "execution_count": 15,
   "id": "de92afca",
   "metadata": {},
   "outputs": [],
   "source": []
  },
  {
   "cell_type": "code",
   "execution_count": null,
   "id": "2d4eb324",
   "metadata": {},
   "outputs": [],
   "source": []
  }
 ],
 "metadata": {
  "kernelspec": {
   "display_name": "Python 3 (ipykernel)",
   "language": "python",
   "name": "python3"
  },
  "language_info": {
   "codemirror_mode": {
    "name": "ipython",
    "version": 3
   },
   "file_extension": ".py",
   "mimetype": "text/x-python",
   "name": "python",
   "nbconvert_exporter": "python",
   "pygments_lexer": "ipython3",
   "version": "3.10.9"
  }
 },
 "nbformat": 4,
 "nbformat_minor": 5
}
